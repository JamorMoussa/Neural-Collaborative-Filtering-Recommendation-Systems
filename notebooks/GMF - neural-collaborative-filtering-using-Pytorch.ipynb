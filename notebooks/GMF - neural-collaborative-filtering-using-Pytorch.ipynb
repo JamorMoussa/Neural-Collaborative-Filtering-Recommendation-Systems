{
 "cells": [
  {
   "cell_type": "markdown",
   "id": "9afc7103-93f2-414f-896d-c29ac3c64c10",
   "metadata": {},
   "source": [
    "## Neural Collaborative Filtering - NCF"
   ]
  },
  {
   "cell_type": "code",
   "execution_count": 213,
   "id": "c70617ab-49f3-4ac5-9011-19a6538a3f46",
   "metadata": {},
   "outputs": [],
   "source": [
    "import pandas as pd\n",
    "import numpy as np\n",
    "import matplotlib.pyplot as plt\n",
    "\n",
    "import torch, torch.nn as nn\n",
    "import torch.nn.functional as F\n",
    "from torch.utils.data import TensorDataset, DataLoader\n",
    "\n",
    "from sklearn.preprocessing import LabelEncoder, MinMaxScaler"
   ]
  },
  {
   "cell_type": "code",
   "execution_count": 70,
   "id": "10c2a69c-03ce-4c68-8811-f0fa83f8fb82",
   "metadata": {},
   "outputs": [],
   "source": [
    "dataset_df = pd.read_csv(\"../datasets/toy_dataset.csv\")\n",
    "dataset_df = dataset_df.melt(id_vars=['Unnamed: 0'], var_name='category', value_name='rating')\n",
    "dataset_df.rename(columns={'Unnamed: 0': 'user_id'}, inplace=True)\n",
    "dataset_df.rename(columns={'category': 'item_id'}, inplace=True)\n",
    "dataset_df.fillna(0, inplace=True)"
   ]
  },
  {
   "cell_type": "code",
   "execution_count": 71,
   "id": "5f56e6cd-82a7-4522-a8e4-4891f50c2cd9",
   "metadata": {},
   "outputs": [],
   "source": [
    "dataset_df[\"user_id\"] = LabelEncoder().fit_transform(dataset_df[\"user_id\"])\n",
    "dataset_df[\"item_id\"] = LabelEncoder().fit_transform(dataset_df[\"item_id\"])\n",
    "dataset_df[\"rating\"] = MinMaxScaler().fit_transform(dataset_df[\"rating\"].to_numpy().reshape(-1, 1))"
   ]
  },
  {
   "cell_type": "code",
   "execution_count": 72,
   "id": "4809bc70-5dd3-4013-a149-9cddff4afef2",
   "metadata": {},
   "outputs": [
    {
     "data": {
      "text/html": [
       "<div>\n",
       "<style scoped>\n",
       "    .dataframe tbody tr th:only-of-type {\n",
       "        vertical-align: middle;\n",
       "    }\n",
       "\n",
       "    .dataframe tbody tr th {\n",
       "        vertical-align: top;\n",
       "    }\n",
       "\n",
       "    .dataframe thead th {\n",
       "        text-align: right;\n",
       "    }\n",
       "</style>\n",
       "<table border=\"1\" class=\"dataframe\">\n",
       "  <thead>\n",
       "    <tr style=\"text-align: right;\">\n",
       "      <th></th>\n",
       "      <th>user_id</th>\n",
       "      <th>item_id</th>\n",
       "      <th>rating</th>\n",
       "    </tr>\n",
       "  </thead>\n",
       "  <tbody>\n",
       "    <tr>\n",
       "      <th>0</th>\n",
       "      <td>0</td>\n",
       "      <td>0</td>\n",
       "      <td>0.8</td>\n",
       "    </tr>\n",
       "    <tr>\n",
       "      <th>1</th>\n",
       "      <td>1</td>\n",
       "      <td>0</td>\n",
       "      <td>1.0</td>\n",
       "    </tr>\n",
       "    <tr>\n",
       "      <th>2</th>\n",
       "      <td>2</td>\n",
       "      <td>0</td>\n",
       "      <td>0.2</td>\n",
       "    </tr>\n",
       "    <tr>\n",
       "      <th>3</th>\n",
       "      <td>3</td>\n",
       "      <td>0</td>\n",
       "      <td>0.0</td>\n",
       "    </tr>\n",
       "    <tr>\n",
       "      <th>4</th>\n",
       "      <td>4</td>\n",
       "      <td>0</td>\n",
       "      <td>0.2</td>\n",
       "    </tr>\n",
       "    <tr>\n",
       "      <th>5</th>\n",
       "      <td>0</td>\n",
       "      <td>1</td>\n",
       "      <td>1.0</td>\n",
       "    </tr>\n",
       "    <tr>\n",
       "      <th>6</th>\n",
       "      <td>1</td>\n",
       "      <td>1</td>\n",
       "      <td>0.6</td>\n",
       "    </tr>\n",
       "    <tr>\n",
       "      <th>7</th>\n",
       "      <td>2</td>\n",
       "      <td>1</td>\n",
       "      <td>0.0</td>\n",
       "    </tr>\n",
       "    <tr>\n",
       "      <th>8</th>\n",
       "      <td>3</td>\n",
       "      <td>1</td>\n",
       "      <td>0.4</td>\n",
       "    </tr>\n",
       "    <tr>\n",
       "      <th>9</th>\n",
       "      <td>4</td>\n",
       "      <td>1</td>\n",
       "      <td>0.0</td>\n",
       "    </tr>\n",
       "    <tr>\n",
       "      <th>10</th>\n",
       "      <td>0</td>\n",
       "      <td>2</td>\n",
       "      <td>0.6</td>\n",
       "    </tr>\n",
       "    <tr>\n",
       "      <th>11</th>\n",
       "      <td>1</td>\n",
       "      <td>2</td>\n",
       "      <td>0.6</td>\n",
       "    </tr>\n",
       "    <tr>\n",
       "      <th>12</th>\n",
       "      <td>2</td>\n",
       "      <td>2</td>\n",
       "      <td>0.0</td>\n",
       "    </tr>\n",
       "    <tr>\n",
       "      <th>13</th>\n",
       "      <td>3</td>\n",
       "      <td>2</td>\n",
       "      <td>0.2</td>\n",
       "    </tr>\n",
       "    <tr>\n",
       "      <th>14</th>\n",
       "      <td>4</td>\n",
       "      <td>2</td>\n",
       "      <td>0.4</td>\n",
       "    </tr>\n",
       "    <tr>\n",
       "      <th>15</th>\n",
       "      <td>0</td>\n",
       "      <td>3</td>\n",
       "      <td>0.0</td>\n",
       "    </tr>\n",
       "    <tr>\n",
       "      <th>16</th>\n",
       "      <td>1</td>\n",
       "      <td>3</td>\n",
       "      <td>0.4</td>\n",
       "    </tr>\n",
       "    <tr>\n",
       "      <th>17</th>\n",
       "      <td>2</td>\n",
       "      <td>3</td>\n",
       "      <td>0.8</td>\n",
       "    </tr>\n",
       "    <tr>\n",
       "      <th>18</th>\n",
       "      <td>3</td>\n",
       "      <td>3</td>\n",
       "      <td>0.8</td>\n",
       "    </tr>\n",
       "    <tr>\n",
       "      <th>19</th>\n",
       "      <td>4</td>\n",
       "      <td>3</td>\n",
       "      <td>0.6</td>\n",
       "    </tr>\n",
       "    <tr>\n",
       "      <th>20</th>\n",
       "      <td>0</td>\n",
       "      <td>4</td>\n",
       "      <td>0.4</td>\n",
       "    </tr>\n",
       "    <tr>\n",
       "      <th>21</th>\n",
       "      <td>1</td>\n",
       "      <td>4</td>\n",
       "      <td>0.4</td>\n",
       "    </tr>\n",
       "    <tr>\n",
       "      <th>22</th>\n",
       "      <td>2</td>\n",
       "      <td>4</td>\n",
       "      <td>1.0</td>\n",
       "    </tr>\n",
       "    <tr>\n",
       "      <th>23</th>\n",
       "      <td>3</td>\n",
       "      <td>4</td>\n",
       "      <td>0.0</td>\n",
       "    </tr>\n",
       "    <tr>\n",
       "      <th>24</th>\n",
       "      <td>4</td>\n",
       "      <td>4</td>\n",
       "      <td>0.6</td>\n",
       "    </tr>\n",
       "    <tr>\n",
       "      <th>25</th>\n",
       "      <td>0</td>\n",
       "      <td>5</td>\n",
       "      <td>0.2</td>\n",
       "    </tr>\n",
       "    <tr>\n",
       "      <th>26</th>\n",
       "      <td>1</td>\n",
       "      <td>5</td>\n",
       "      <td>0.0</td>\n",
       "    </tr>\n",
       "    <tr>\n",
       "      <th>27</th>\n",
       "      <td>2</td>\n",
       "      <td>5</td>\n",
       "      <td>0.8</td>\n",
       "    </tr>\n",
       "    <tr>\n",
       "      <th>28</th>\n",
       "      <td>3</td>\n",
       "      <td>5</td>\n",
       "      <td>0.6</td>\n",
       "    </tr>\n",
       "    <tr>\n",
       "      <th>29</th>\n",
       "      <td>4</td>\n",
       "      <td>5</td>\n",
       "      <td>0.8</td>\n",
       "    </tr>\n",
       "  </tbody>\n",
       "</table>\n",
       "</div>"
      ],
      "text/plain": [
       "    user_id  item_id  rating\n",
       "0         0        0     0.8\n",
       "1         1        0     1.0\n",
       "2         2        0     0.2\n",
       "3         3        0     0.0\n",
       "4         4        0     0.2\n",
       "5         0        1     1.0\n",
       "6         1        1     0.6\n",
       "7         2        1     0.0\n",
       "8         3        1     0.4\n",
       "9         4        1     0.0\n",
       "10        0        2     0.6\n",
       "11        1        2     0.6\n",
       "12        2        2     0.0\n",
       "13        3        2     0.2\n",
       "14        4        2     0.4\n",
       "15        0        3     0.0\n",
       "16        1        3     0.4\n",
       "17        2        3     0.8\n",
       "18        3        3     0.8\n",
       "19        4        3     0.6\n",
       "20        0        4     0.4\n",
       "21        1        4     0.4\n",
       "22        2        4     1.0\n",
       "23        3        4     0.0\n",
       "24        4        4     0.6\n",
       "25        0        5     0.2\n",
       "26        1        5     0.0\n",
       "27        2        5     0.8\n",
       "28        3        5     0.6\n",
       "29        4        5     0.8"
      ]
     },
     "execution_count": 72,
     "metadata": {},
     "output_type": "execute_result"
    }
   ],
   "source": [
    "dataset"
   ]
  },
  {
   "cell_type": "code",
   "execution_count": 73,
   "id": "c3c3b59d-f4eb-4354-bab5-dfe6df37cf40",
   "metadata": {},
   "outputs": [
    {
     "data": {
      "text/plain": [
       "array([[0. , 0. , 0.8],\n",
       "       [1. , 0. , 1. ],\n",
       "       [2. , 0. , 0.2],\n",
       "       [3. , 0. , 0. ],\n",
       "       [4. , 0. , 0.2],\n",
       "       [0. , 1. , 1. ],\n",
       "       [1. , 1. , 0.6],\n",
       "       [2. , 1. , 0. ],\n",
       "       [3. , 1. , 0.4],\n",
       "       [4. , 1. , 0. ],\n",
       "       [0. , 2. , 0.6],\n",
       "       [1. , 2. , 0.6],\n",
       "       [2. , 2. , 0. ],\n",
       "       [3. , 2. , 0.2],\n",
       "       [4. , 2. , 0.4],\n",
       "       [0. , 3. , 0. ],\n",
       "       [1. , 3. , 0.4],\n",
       "       [2. , 3. , 0.8],\n",
       "       [3. , 3. , 0.8],\n",
       "       [4. , 3. , 0.6],\n",
       "       [0. , 4. , 0.4],\n",
       "       [1. , 4. , 0.4],\n",
       "       [2. , 4. , 1. ],\n",
       "       [3. , 4. , 0. ],\n",
       "       [4. , 4. , 0.6],\n",
       "       [0. , 5. , 0.2],\n",
       "       [1. , 5. , 0. ],\n",
       "       [2. , 5. , 0.8],\n",
       "       [3. , 5. , 0.6],\n",
       "       [4. , 5. , 0.8]])"
      ]
     },
     "execution_count": 73,
     "metadata": {},
     "output_type": "execute_result"
    }
   ],
   "source": [
    "np_dataset = dataset.to_numpy()\n",
    "np_dataset"
   ]
  },
  {
   "cell_type": "code",
   "execution_count": 144,
   "id": "aaba5592-723d-44f0-bc7a-32eea43ac40c",
   "metadata": {},
   "outputs": [],
   "source": [
    "X, y = torch.tensor(np_dataset[:, :-1]).type(torch.LongTensor), torch.tensor(np_dataset[:, -1]).unsqueeze(1).type(torch.float32)"
   ]
  },
  {
   "cell_type": "code",
   "execution_count": 145,
   "id": "a0f73b39-d2b5-4542-b91d-c4600e2b99a9",
   "metadata": {},
   "outputs": [],
   "source": [
    "dataset = TensorDataset(X, y)"
   ]
  },
  {
   "cell_type": "code",
   "execution_count": 146,
   "id": "388b7326-f265-4ee1-9eab-54bf96a06d11",
   "metadata": {},
   "outputs": [
    {
     "data": {
      "text/plain": [
       "(tensor([[0, 0],\n",
       "         [1, 0],\n",
       "         [2, 0]]),\n",
       " tensor([[0.8000],\n",
       "         [1.0000],\n",
       "         [0.2000]]))"
      ]
     },
     "execution_count": 146,
     "metadata": {},
     "output_type": "execute_result"
    }
   ],
   "source": [
    "dataset[:3]"
   ]
  },
  {
   "cell_type": "code",
   "execution_count": 304,
   "id": "0eb024c9-7382-4988-be7c-be972560d6a8",
   "metadata": {},
   "outputs": [],
   "source": [
    "loader = DataLoader(dataset, batch_size=10, shuffle=True)"
   ]
  },
  {
   "cell_type": "code",
   "execution_count": 305,
   "id": "5fdc0f44-cf2c-4d3c-9909-ca011c50e2e0",
   "metadata": {},
   "outputs": [
    {
     "data": {
      "text/plain": [
       "[tensor([[4, 0],\n",
       "         [3, 5],\n",
       "         [4, 2],\n",
       "         [2, 0],\n",
       "         [3, 0],\n",
       "         [4, 1],\n",
       "         [1, 2],\n",
       "         [2, 3],\n",
       "         [3, 3],\n",
       "         [4, 5]]),\n",
       " tensor([[0.2000],\n",
       "         [0.6000],\n",
       "         [0.4000],\n",
       "         [0.2000],\n",
       "         [0.0000],\n",
       "         [0.0000],\n",
       "         [0.6000],\n",
       "         [0.8000],\n",
       "         [0.8000],\n",
       "         [0.8000]])]"
      ]
     },
     "execution_count": 305,
     "metadata": {},
     "output_type": "execute_result"
    }
   ],
   "source": [
    "next(iter(loader))"
   ]
  },
  {
   "cell_type": "markdown",
   "id": "81c44593-404c-43cd-99d6-c829518cd9f5",
   "metadata": {},
   "source": [
    "### 02. Model Building: "
   ]
  },
  {
   "cell_type": "code",
   "execution_count": 306,
   "id": "afedf73b-299c-4c9c-b363-1b2cbb6e96e1",
   "metadata": {},
   "outputs": [],
   "source": [
    "class GMFBlock(nn.Module):\n",
    "\n",
    "    def __init__(\n",
    "        self,\n",
    "        num_users: int, \n",
    "        num_items: int,\n",
    "        latent_dim: int\n",
    "    ) -> None:\n",
    "        super(GMFBlock, self).__init__()\n",
    "\n",
    "        self.users_embs = nn.Embedding(\n",
    "            num_embeddings= num_users,\n",
    "            embedding_dim= latent_dim\n",
    "        )\n",
    "\n",
    "        self.items_embs = nn.Embedding(\n",
    "            num_embeddings= num_items,\n",
    "            embedding_dim= latent_dim\n",
    "        )\n",
    "\n",
    "        self.edge_weight = nn.Linear(\n",
    "            in_features= latent_dim,\n",
    "            out_features= 1\n",
    "        ) \n",
    "\n",
    "    def forward(\n",
    "        self,\n",
    "        userIds: torch.LongTensor,\n",
    "        itemsIds: torch.LongTensor\n",
    "    ) -> torch.Tensor:\n",
    "\n",
    "        user_embs = self.users_embs(userIds)\n",
    "        items_embs = self.users_embs(itemsIds)\n",
    "\n",
    "        logits = self.edge_weight(\n",
    "            torch.mul(user_embs, items_embs)\n",
    "        )\n",
    "        return F.sigmoid(logits)"
   ]
  },
  {
   "cell_type": "code",
   "execution_count": 360,
   "id": "8552f563-d569-4f97-b85d-1c0c1533a25c",
   "metadata": {},
   "outputs": [],
   "source": [
    "model = GMFBlock(\n",
    "    num_users=5,\n",
    "    num_items=6,\n",
    "    latent_dim=2\n",
    ")"
   ]
  },
  {
   "cell_type": "code",
   "execution_count": 361,
   "id": "0c9f3172-2dd6-4d5a-b01d-934c5c6c702a",
   "metadata": {},
   "outputs": [
    {
     "data": {
      "text/plain": [
       "GMFBlock(\n",
       "  (users_embs): Embedding(5, 2)\n",
       "  (items_embs): Embedding(6, 2)\n",
       "  (edge_weight): Linear(in_features=2, out_features=1, bias=True)\n",
       ")"
      ]
     },
     "execution_count": 361,
     "metadata": {},
     "output_type": "execute_result"
    }
   ],
   "source": [
    "model"
   ]
  },
  {
   "cell_type": "code",
   "execution_count": 362,
   "id": "5e43e6b7-d1ed-439c-8bab-0ff3b4cd6e49",
   "metadata": {},
   "outputs": [],
   "source": [
    "inputs, targets = next(iter(loader))"
   ]
  },
  {
   "cell_type": "code",
   "execution_count": 363,
   "id": "3a80ce52-05be-4276-a8ae-198f2267aee9",
   "metadata": {},
   "outputs": [
    {
     "data": {
      "text/plain": [
       "tensor([[4, 2],\n",
       "        [2, 2],\n",
       "        [4, 3],\n",
       "        [3, 0],\n",
       "        [0, 1],\n",
       "        [2, 1],\n",
       "        [0, 4],\n",
       "        [3, 5],\n",
       "        [1, 5],\n",
       "        [3, 2]])"
      ]
     },
     "execution_count": 363,
     "metadata": {},
     "output_type": "execute_result"
    }
   ],
   "source": [
    "inputs"
   ]
  },
  {
   "cell_type": "code",
   "execution_count": 364,
   "id": "995fb670-b362-4541-bbae-c9b77c73f48a",
   "metadata": {},
   "outputs": [],
   "source": [
    "usersIds, itemsIds = inputs[:, 0], inputs[:, 0]"
   ]
  },
  {
   "cell_type": "code",
   "execution_count": 365,
   "id": "faa3bedb-1ea2-4390-9fbb-4fe8ea06e71e",
   "metadata": {},
   "outputs": [
    {
     "data": {
      "text/plain": [
       "tensor([[0.6544],\n",
       "        [0.5982],\n",
       "        [0.6544],\n",
       "        [0.6121],\n",
       "        [0.5993],\n",
       "        [0.5982],\n",
       "        [0.5993],\n",
       "        [0.6121],\n",
       "        [0.6622],\n",
       "        [0.6121]], grad_fn=<SigmoidBackward0>)"
      ]
     },
     "execution_count": 365,
     "metadata": {},
     "output_type": "execute_result"
    }
   ],
   "source": [
    "model(usersIds, itemsIds)"
   ]
  },
  {
   "cell_type": "code",
   "execution_count": 366,
   "id": "95de3327-5c3c-4193-ab81-2405ae7854fb",
   "metadata": {},
   "outputs": [],
   "source": [
    "crit = nn.BCELoss()"
   ]
  },
  {
   "cell_type": "code",
   "execution_count": 416,
   "id": "a2963675-874a-430d-8c89-c21944233b79",
   "metadata": {},
   "outputs": [],
   "source": [
    "opt = torch.optim.AdamW(model.parameters(), lr=0.9)"
   ]
  },
  {
   "cell_type": "code",
   "execution_count": 420,
   "id": "02baaebe-b7c4-4795-8f6e-e4dc5aabb70c",
   "metadata": {},
   "outputs": [
    {
     "name": "stdout",
     "output_type": "stream",
     "text": [
      "Loss :  0.679834246635437\n",
      "Loss :  0.6795942783355713\n",
      "Loss :  0.6795939803123474\n",
      "Loss :  0.679694414138794\n",
      "Loss :  0.6801851987838745\n",
      "Loss :  0.679700493812561\n",
      "Loss :  0.6796716451644897\n",
      "Loss :  0.6801233291625977\n",
      "Loss :  0.6795939207077026\n",
      "Loss :  0.6802371144294739\n"
     ]
    }
   ],
   "source": [
    "for epoch in range(1000):\n",
    "\n",
    "    total_loss = 0\n",
    "\n",
    "    # for inputs, targets in loader:\n",
    "\n",
    "    inputs, targets = dataset[:]\n",
    "    \n",
    "    opt.zero_grad()\n",
    "    \n",
    "    usersIds, itemsIds = inputs[:, 0], inputs[:, 0]\n",
    "\n",
    "    out = model(usersIds, itemsIds)\n",
    "\n",
    "    loss = crit(out, targets)\n",
    "\n",
    "    total_loss += loss.item()\n",
    "\n",
    "    loss.backward()\n",
    "\n",
    "    opt.step()\n",
    "\n",
    "    if epoch % 100 == 0: print(\"Loss : \", total_loss)"
   ]
  },
  {
   "cell_type": "code",
   "execution_count": 418,
   "id": "64fc425d-12a1-426b-b87f-5c40aefb5237",
   "metadata": {},
   "outputs": [
    {
     "data": {
      "text/plain": [
       "tensor([[0.1286, 0.0448]])"
      ]
     },
     "execution_count": 418,
     "metadata": {},
     "output_type": "execute_result"
    }
   ],
   "source": [
    "model.edge_weight.weight.grad"
   ]
  },
  {
   "cell_type": "code",
   "execution_count": 405,
   "id": "30aea991-2081-4a3b-93ce-7617e24e4fe9",
   "metadata": {},
   "outputs": [],
   "source": [
    "user_weight = model.users_embs.weight.detach().numpy()"
   ]
  },
  {
   "cell_type": "code",
   "execution_count": 406,
   "id": "6a5523a0-e824-48ba-971d-97a523a9b5d1",
   "metadata": {},
   "outputs": [
    {
     "data": {
      "image/png": "[encoded data removed]",
      "text/plain": [
       "<Figure size 640x480 with 1 Axes>"
      ]
     },
     "metadata": {},
     "output_type": "display_data"
    }
   ],
   "source": [
    "plt.scatter(x=user_weight[:, 0], y=user_weight[:, 1])\n",
    "for i, label in enumerate([f\"user {index}\" for index in range(1, 6)]):\n",
    "    plt.annotate(label, (user_weight[i, 0], user_weight[i, 1]))"
   ]
  },
  {
   "cell_type": "code",
   "execution_count": null,
   "id": "849a4112-3c21-4ad6-b948-ab17355e2914",
   "metadata": {},
   "outputs": [],
   "source": []
  }
 ],
 "metadata": {
  "kernelspec": {
   "display_name": "Python 3 (ipykernel)",
   "language": "python",
   "name": "python3"
  },
  "language_info": {
   "codemirror_mode": {
    "name": "ipython",
    "version": 3
   },
   "file_extension": ".py",
   "mimetype": "text/x-python",
   "name": "python",
   "nbconvert_exporter": "python",
   "pygments_lexer": "ipython3",
   "version": "3.11.6"
  }
 },
 "nbformat": 4,
 "nbformat_minor": 5
}
